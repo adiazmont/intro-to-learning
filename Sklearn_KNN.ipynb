{
 "cells": [
  {
   "cell_type": "markdown",
   "metadata": {},
   "source": [
    "# Sklearn K-nearest-neighbor Algorithm Implementation"
   ]
  },
  {
   "cell_type": "markdown",
   "metadata": {},
   "source": [
    "As before, let's import the libraries needed:"
   ]
  },
  {
   "cell_type": "code",
   "execution_count": 1,
   "metadata": {},
   "outputs": [],
   "source": [
    "import numpy as np\n",
    "from mlxtend.data import loadlocal_mnist\n",
    "from sklearn.model_selection import train_test_split\n",
    "from sklearn.neighbors import KNeighborsClassifier\n",
    "from collections import Counter"
   ]
  },
  {
   "cell_type": "markdown",
   "metadata": {},
   "source": [
    "Then, let's load the dataset and store in X and y the data samples and data labels, respectively:"
   ]
  },
  {
   "cell_type": "code",
   "execution_count": 2,
   "metadata": {},
   "outputs": [],
   "source": [
    "X, y = loadlocal_mnist(\n",
    "    images_path='dataset/train-images.idx3-ubyte',\n",
    "    labels_path='dataset/train-labels.idx1-ubyte')"
   ]
  },
  {
   "cell_type": "markdown",
   "metadata": {},
   "source": [
    "Split dataset in training and testing samples"
   ]
  },
  {
   "cell_type": "code",
   "execution_count": 3,
   "metadata": {},
   "outputs": [],
   "source": [
    "X_train, X_test, y_train, y_test = train_test_split(X, y, test_size=0.25)"
   ]
  },
  {
   "cell_type": "markdown",
   "metadata": {},
   "source": [
    "Now, let's create a function where we use the sklearn.neighbors KNeighborsClassifier"
   ]
  },
  {
   "cell_type": "code",
   "execution_count": 4,
   "metadata": {},
   "outputs": [],
   "source": [
    "def sklearn_knn(X_train, X_test, y_train, y_test, k=1):\n",
    "    \"\"\"\n",
    "    Create a classification model with the KNeighborsClassifier\n",
    "    from sklearn and evaluate the test set.\n",
    "    :param X_train: numpy array with training samples\n",
    "    :param X_test: numpy array with testing samples\n",
    "    :param y_train: numpy array with training labels\n",
    "    :param y_test: numpy array with training labels\n",
    "    :param k: number of k neighbors\n",
    "    :return: print accuracy of model\n",
    "    \"\"\"\n",
    "    # number of samples to be considered in evaluation\n",
    "    trainset_size = 100\n",
    "    # number of tests to evaluate\n",
    "    testset_size = 100\n",
    "\n",
    "    # create an instance of KNeighborsClassifier\n",
    "    model = KNeighborsClassifier(n_neighbors=k)\n",
    "    # fit/train/create the model with the training data\n",
    "    model.fit(X_train[:trainset_size], y_train[:trainset_size].ravel())\n",
    "    # evaluate the model and compute its accuracy\n",
    "    accuracy = model.score(X_test[:testset_size], y_test[:testset_size]) * 100\n",
    "    print(\"Accuracy of sklearn model %s %%\" % str(accuracy))"
   ]
  },
  {
   "cell_type": "markdown",
   "metadata": {},
   "source": [
    "Let's now evaluate this algorithm:"
   ]
  },
  {
   "cell_type": "code",
   "execution_count": 5,
   "metadata": {},
   "outputs": [
    {
     "name": "stdout",
     "output_type": "stream",
     "text": [
      "Accuracy of sklearn model 75.0 %\n"
     ]
    }
   ],
   "source": [
    "# Evaluate the Sklearn model implementation\n",
    "sklearn_knn(X_train, X_test, y_train, y_test, k=1)"
   ]
  },
  {
   "cell_type": "markdown",
   "metadata": {},
   "source": [
    "Now, feel free to go back and edit parts of the code to try and improve the accuracy."
   ]
  }
 ],
 "metadata": {
  "kernelspec": {
   "display_name": "Python 3",
   "language": "python",
   "name": "python3"
  },
  "language_info": {
   "codemirror_mode": {
    "name": "ipython",
    "version": 3
   },
   "file_extension": ".py",
   "mimetype": "text/x-python",
   "name": "python",
   "nbconvert_exporter": "python",
   "pygments_lexer": "ipython3",
   "version": "3.8.5"
  }
 },
 "nbformat": 4,
 "nbformat_minor": 4
}
