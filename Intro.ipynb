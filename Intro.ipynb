{
 "cells": [
  {
   "cell_type": "markdown",
   "metadata": {},
   "source": [
    "# Introduction to Python"
   ]
  },
  {
   "cell_type": "markdown",
   "metadata": {},
   "source": [
    "Python is simple in execution, allowing for rather complex implementation. Here we would only revisit the main data structures, for-loops, function and function calls. For more information about the usage, one can always look at the documentation, which you can find at https://www.python.org.\n",
    "\n",
    "The most basic entity in Python is a variable, which can take any value. For simplicity, we would be using numeric and character (string) types in these examples. Let's run the cell below to introduce the data structures!"
   ]
  },
  {
   "cell_type": "code",
   "execution_count": null,
   "metadata": {},
   "outputs": [],
   "source": [
    "variable = 2\n",
    "_tuple = ('2', 2)\n",
    "_list = ['2', 2]\n",
    "_dict = {'2': 2, 2: '2'}\n",
    "\n",
    "print(\"This is a variable: \", variable)\n",
    "print(\"This is a tuple: \", _tuple)\n",
    "print(\"This is a list: \", _list)\n",
    "print(\"This is a dictionary: \", _dict)"
   ]
  },
  {
   "cell_type": "markdown",
   "metadata": {},
   "source": [
    "By now, you should get an idea of how flexible is Python when compared against similiar programming languages such as Java. If we look at the tuple and list data structures, we are storing objects with different types. We can even concatanate objects. For example:"
   ]
  },
  {
   "cell_type": "code",
   "execution_count": null,
   "metadata": {},
   "outputs": [],
   "source": [
    "concat_tuple = (0, (1, (2, 2)))\n",
    "print(\"This is a complex tuple: \", concat_tuple)"
   ]
  },
  {
   "cell_type": "markdown",
   "metadata": {},
   "source": [
    "The same flexibility holds for lists and dictionaries.\n",
    "\n",
    "Another basic demonstration of Python capabilities is through algebraic functions. Run the cell below to begin this."
   ]
  },
  {
   "cell_type": "code",
   "execution_count": null,
   "metadata": {},
   "outputs": [],
   "source": [
    "print(\"Basic algebra: \")\n",
    "_sum = variable + 5\n",
    "_mul = variable * 5\n",
    "_div = variable / 5\n",
    "_mod = variable % 5\n",
    "_pow = variable ** 5\n",
    "print(\"Sum: %d + 5 = %d\" % (variable, _sum))\n",
    "print(\"Multiplication: %d x 5 = %d\" % (variable, _mul))\n",
    "print(\"Division: %d / 5 = %d\" % (variable, _div))\n",
    "print(\"Module: %d %% 5 = %d\" % (variable, _mod))\n",
    "print(\"Power: %d ** 5 = %d\" % (variable, _pow))"
   ]
  },
  {
   "cell_type": "markdown",
   "metadata": {},
   "source": [
    "Pretty simple, right? In the next cell we'll be covering a few concepts:\n",
    "\n",
    "- Functions.\n",
    "- For-loops.\n",
    "- Object types.\n",
    "\n",
    "Run the cell below to begin this."
   ]
  },
  {
   "cell_type": "code",
   "execution_count": null,
   "metadata": {},
   "outputs": [],
   "source": [
    "def for_loop_func(x):\n",
    "    if type(x) == dict:\n",
    "        print(\"The object is a dictionary\")\n",
    "        for key, val in x.items():\n",
    "            print(\"The key is: %s and the value is %s\" % (str(key), str(val)))\n",
    "    if type(x) == list:\n",
    "        print(\"The object is a list\")\n",
    "        for val in x:\n",
    "            print(\"Value: \", val)\n",
    "    if type(x) == tuple:\n",
    "        print(\"The object is a tuple\")\n",
    "        for val in x:\n",
    "            print(\"Value: \", val)"
   ]
  },
  {
   "cell_type": "markdown",
   "metadata": {},
   "source": [
    "Nothing happened? No! You have declared a Python function that takes \"x\" as an input parameter, it checks if its either a dict, a list or a tuple, and then iterates to the respective object, printing their content. Let's give it a try:"
   ]
  },
  {
   "cell_type": "code",
   "execution_count": null,
   "metadata": {},
   "outputs": [],
   "source": [
    "for_loop_func(_tuple)\n",
    "for_loop_func(_list)\n",
    "for_loop_func(_dict)"
   ]
  },
  {
   "cell_type": "markdown",
   "metadata": {},
   "source": [
    "While this was a very short introduction, it should give you a good general idea of the potential of Python! In the next exercises we will \"drastically\" extend the complexity, but don't worry, we will explain everything step by step!"
   ]
  }
 ],
 "metadata": {
  "kernelspec": {
   "display_name": "Python 3",
   "language": "python",
   "name": "python3"
  },
  "language_info": {
   "codemirror_mode": {
    "name": "ipython",
    "version": 3
   },
   "file_extension": ".py",
   "mimetype": "text/x-python",
   "name": "python",
   "nbconvert_exporter": "python",
   "pygments_lexer": "ipython3",
   "version": "3.8.5"
  }
 },
 "nbformat": 4,
 "nbformat_minor": 4
}
